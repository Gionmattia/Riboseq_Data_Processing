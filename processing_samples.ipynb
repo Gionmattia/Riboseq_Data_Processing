{
 "cells": [
  {
   "cell_type": "code",
   "execution_count": 1,
   "metadata": {},
   "outputs": [],
   "source": [
    "import pandas as pd \n",
    "from Bio import Entrez \n",
    "from info_from_pmid import get_info_from_medline"
   ]
  },
  {
   "cell_type": "code",
   "execution_count": 2,
   "metadata": {},
   "outputs": [],
   "source": [
    "from config import ncbi_email \n",
    "Entrez.email = ncbi_email"
   ]
  },
  {
   "cell_type": "code",
   "execution_count": 3,
   "metadata": {},
   "outputs": [],
   "source": [
    "argeos_path = 'data/argeos_Ribosome_profiling_Human.tsv'\n",
    "\n",
    "argeos = pd.read_csv(argeos_path, sep=\"\\t\")\n",
    "\n",
    "for i in range(len(list(argeos.Accession))):\n",
    "    if argeos.at[i, \"SRA\"] != \"None\":\n",
    "        argeos.at[i, \"SRA\"] = argeos.at[i, \"SRA\"].split(\"=\")[1]"
   ]
  },
  {
   "cell_type": "code",
   "execution_count": 4,
   "metadata": {},
   "outputs": [],
   "source": [
    "geo_ribosome_profiling_path = 'data/geo_ribosomeprofiling.tsv'\n",
    "\n",
    "geo_ribosome_profiling = pd.read_csv(geo_ribosome_profiling_path, sep='\\t')"
   ]
  },
  {
   "cell_type": "code",
   "execution_count": 5,
   "metadata": {},
   "outputs": [],
   "source": [
    "all_accessions = []\n",
    "for i in list(geo_ribosome_profiling.Accession):\n",
    "    if i not in all_accessions:\n",
    "        all_accessions.append(i)\n",
    "\n",
    "for i in list(argeos.Accession):\n",
    "    if i not in all_accessions:\n",
    "        all_accessions.append(i)"
   ]
  },
  {
   "cell_type": "code",
   "execution_count": 6,
   "metadata": {},
   "outputs": [],
   "source": [
    "on = [\"Accession\", \"Title\", \"Organism\", \"Samples\", \"SRA\", \"Release_Date\", \"Organism\"]\n",
    "superset = pd.merge(geo_ribosome_profiling, argeos, how='outer', on=on)"
   ]
  },
  {
   "cell_type": "code",
   "execution_count": 7,
   "metadata": {},
   "outputs": [],
   "source": [
    "columns = ['Type']\n",
    "index = [i for i, row in superset.iterrows()]\n",
    "type_df = pd.DataFrame(index=index, columns=columns)\n",
    "for i, row in superset.iterrows():\n",
    "    if str(row['Type_x']) != 'nan':\n",
    "        type_df.at[i, 'Type'] = str(row['Type_x'])\n",
    "    else:\n",
    "        type_df.at[i, 'Type'] = str(row['Type_y'])"
   ]
  },
  {
   "cell_type": "code",
   "execution_count": 8,
   "metadata": {},
   "outputs": [],
   "source": [
    "superset = pd.concat([superset, type_df], axis=1)"
   ]
  },
  {
   "cell_type": "code",
   "execution_count": 9,
   "metadata": {},
   "outputs": [],
   "source": [
    "for col in superset.columns:\n",
    "    if 'Type_' in col:\n",
    "        del superset[col]"
   ]
  },
  {
   "cell_type": "code",
   "execution_count": 10,
   "metadata": {},
   "outputs": [],
   "source": [
    "import validators \n",
    "\n",
    "columns = ['GSE', 'GSE_Supplementary', 'BioProject']\n",
    "index = [i for i, row in superset.iterrows()]\n",
    "link_df = pd.DataFrame(index=index, columns=columns)\n",
    "\n",
    "gse_supp_base = 'ftp://ftp.ncbi.nlm.nih.gov/geo/series/'\n",
    "gse_base = \"https://www.ncbi.nlm.nih.gov/geo/query/acc.cgi?acc=\"\n",
    "\n",
    "for i, row in superset.iterrows():\n",
    "    if str(row['Supplementary Links']) != 'nan':\n",
    "        links = superset.at[i, 'Supplementary Links'].split(';')\n",
    "        for link in links: \n",
    "            if \"GSE\" in link:\n",
    "                gse_accession = link.split('/')[-2]\n",
    "\n",
    "                link_df.at[i, 'GSE_Supplementary'] = link\n",
    "                link_df.at[i, 'GSE'] = gse_base + gse_accession\n",
    "            elif \"PRJ\" in link:\n",
    "                link_df.at[i, \"BioProject\"] = link\n",
    "\n",
    "\n",
    "    else:\n",
    "        if \"GSE\" in row['Link']:\n",
    "            gse_accession = row['Link'].split('=')[-1]\n",
    "            link_df.at[i, 'GSE'] = row['Link']\n",
    "            link_df.at[i, 'BioProject'] = row['BioProject link (NCBI)']\n",
    "            if validators.url(gse_supp_base + gse_accession[:5] + \"nnn/\" + gse_accession + \"/suppl\"):\n",
    "                link_df.at[i, 'GSE_Supplementary'] = gse_supp_base + gse_accession[:-3] + \"nnn/\" + gse_accession + \"/suppl\"\n",
    "            else: \n",
    "                link_df.at[i,'GSE_Supplementary'] = \"\"\n",
    "\n",
    "        else:\n",
    "            link_df.at[i,'GSE'] = \"\"\n",
    "            link_df.at[i,'GSE_Supplementary'] = \"\"\n",
    "            link_df.at[i,'BioProject'] = \"\""
   ]
  },
  {
   "cell_type": "code",
   "execution_count": 11,
   "metadata": {},
   "outputs": [],
   "source": [
    "superset = pd.concat([superset, link_df], axis=1)"
   ]
  },
  {
   "cell_type": "code",
   "execution_count": 12,
   "metadata": {},
   "outputs": [],
   "source": [
    "for col in superset.columns:\n",
    "    if col in ['Link', \n",
    "    'Supplementary Links', \n",
    "    'Supplementary Types', \n",
    "    'BioProject link (NCBI)', \n",
    "    'BioProject link (EBI)', \n",
    "    'All References', \n",
    "    'Platform', \n",
    "    'Type of molecule', \n",
    "    'Impact factor 2018', \n",
    "    'Summary'\n",
    "    ]:\n",
    "        del superset[col]"
   ]
  },
  {
   "cell_type": "code",
   "execution_count": 13,
   "metadata": {},
   "outputs": [
    {
     "ename": "TypeError",
     "evalue": "'NoneType' object is not subscriptable",
     "output_type": "error",
     "traceback": [
      "\u001b[0;31m---------------------------------------------------------------------------\u001b[0m",
      "\u001b[0;31mTypeError\u001b[0m                                 Traceback (most recent call last)",
      "\u001b[1;32m/home/jack/projects/riboseq_data_processing/processing_samples.ipynb Cell 13'\u001b[0m in \u001b[0;36m<module>\u001b[0;34m\u001b[0m\n\u001b[1;32m     <a href='vscode-notebook-cell:/home/jack/projects/riboseq_data_processing/processing_samples.ipynb#ch0000012?line=13'>14</a>\u001b[0m query \u001b[39m=\u001b[39m row[\u001b[39m'\u001b[39m\u001b[39mdoi or pubmed id\u001b[39m\u001b[39m'\u001b[39m]\u001b[39m.\u001b[39msplit(\u001b[39m'\u001b[39m\u001b[39mdoi.org/\u001b[39m\u001b[39m'\u001b[39m)[\u001b[39m-\u001b[39m\u001b[39m1\u001b[39m]\n\u001b[1;32m     <a href='vscode-notebook-cell:/home/jack/projects/riboseq_data_processing/processing_samples.ipynb#ch0000012?line=15'>16</a>\u001b[0m \u001b[39mif\u001b[39;00m \u001b[39mlen\u001b[39m(\u001b[39mstr\u001b[39m(query)) \u001b[39m>\u001b[39m \u001b[39m0\u001b[39m:      \n\u001b[0;32m---> <a href='vscode-notebook-cell:/home/jack/projects/riboseq_data_processing/processing_samples.ipynb#ch0000012?line=16'>17</a>\u001b[0m     info_dict \u001b[39m=\u001b[39m get_info_from_medline(query)\n\u001b[1;32m     <a href='vscode-notebook-cell:/home/jack/projects/riboseq_data_processing/processing_samples.ipynb#ch0000012?line=17'>18</a>\u001b[0m     \u001b[39mfor\u001b[39;00m item \u001b[39min\u001b[39;00m info_dict:\n\u001b[1;32m     <a href='vscode-notebook-cell:/home/jack/projects/riboseq_data_processing/processing_samples.ipynb#ch0000012?line=18'>19</a>\u001b[0m         paper_info_df\u001b[39m.\u001b[39mat[i, item] \u001b[39m=\u001b[39m info_dict[item]\n",
      "File \u001b[0;32m~/projects/riboseq_data_processing/info_from_pmid.py:78\u001b[0m, in \u001b[0;36mget_info_from_medline\u001b[0;34m(query)\u001b[0m\n\u001b[1;32m     <a href='file:///~/projects/riboseq_data_processing/info_from_pmid.py?line=74'>75</a>\u001b[0m             name \u001b[39m=\u001b[39m entry\u001b[39m.\u001b[39msplit(\u001b[39m'\u001b[39m\u001b[39m,\u001b[39m\u001b[39m'\u001b[39m)\n\u001b[1;32m     <a href='file:///~/projects/riboseq_data_processing/info_from_pmid.py?line=75'>76</a>\u001b[0m             info_dict[\u001b[39m'\u001b[39m\u001b[39mauthors\u001b[39m\u001b[39m'\u001b[39m] \u001b[39m+\u001b[39m\u001b[39m=\u001b[39m \u001b[39m'\u001b[39m\u001b[39m \u001b[39m\u001b[39m'\u001b[39m\u001b[39m.\u001b[39mjoin(name[\u001b[39m1\u001b[39m:]) \u001b[39m+\u001b[39m \u001b[39m\"\u001b[39m\u001b[39m \u001b[39m\u001b[39m\"\u001b[39m \u001b[39m+\u001b[39m name[\u001b[39m0\u001b[39m] \u001b[39m+\u001b[39m \u001b[39m\"\u001b[39m\u001b[39m, \u001b[39m\u001b[39m\"\u001b[39m\n\u001b[0;32m---> <a href='file:///~/projects/riboseq_data_processing/info_from_pmid.py?line=77'>78</a>\u001b[0m info_dict[\u001b[39m'\u001b[39m\u001b[39mauthors\u001b[39m\u001b[39m'\u001b[39m] \u001b[39m=\u001b[39m info_dict[\u001b[39m'\u001b[39;49m\u001b[39mauthors\u001b[39;49m\u001b[39m'\u001b[39;49m][:\u001b[39m-\u001b[39;49m\u001b[39m2\u001b[39;49m]\n\u001b[1;32m     <a href='file:///~/projects/riboseq_data_processing/info_from_pmid.py?line=78'>79</a>\u001b[0m \u001b[39mreturn\u001b[39;00m info_dict\n",
      "\u001b[0;31mTypeError\u001b[0m: 'NoneType' object is not subscriptable"
     ]
    }
   ],
   "source": [
    "index = [i for i, row in superset.iterrows()]\n",
    "\n",
    "paper_info_df = pd.DataFrame(columns=[\"PMID\", \"authors\", \"abstract\", \"title\", \"doi\", \"date_published\", \"PMC\", \"journal\"], index=index)\n",
    "for i, row in superset.iterrows():\n",
    "    if str(row['PubMed ID']) != \"nan\":\n",
    "        if paper_info_df.at[i, 'PMID'] != \"nan\":\n",
    "            if len(str(row['PubMed ID'])) > 0:  \n",
    "                info_dict = get_info_from_medline(row['PubMed ID'])\n",
    "                for item in info_dict:\n",
    "                    paper_info_df.at[i, item] = info_dict[item]\n",
    "    else:\n",
    "        if str(row['doi or pubmed id']) != \"nan\":\n",
    "            if \"doi\" in row['doi or pubmed id']:\n",
    "                query = row['doi or pubmed id'].split('doi.org/')[-1]\n",
    "\n",
    "                if len(str(query)) > 0:      \n",
    "                    info_dict = get_info_from_medline(query)\n",
    "                    for item in info_dict:\n",
    "                        paper_info_df.at[i, item] = info_dict[item]\n",
    "        else:\n",
    "            continue"
   ]
  },
  {
   "cell_type": "code",
   "execution_count": null,
   "metadata": {},
   "outputs": [
    {
     "name": "stdout",
     "output_type": "stream",
     "text": [
      "PMID              448\n",
      "authors           448\n",
      "abstract          444\n",
      "title             444\n",
      "doi               448\n",
      "date_published    448\n",
      "PMC               405\n",
      "journal           448\n",
      "dtype: int64\n"
     ]
    }
   ],
   "source": [
    "paper_info_df.to_csv(\"data/ribo_seq_paper_info.csv\", index=False)"
   ]
  },
  {
   "cell_type": "code",
   "execution_count": null,
   "metadata": {},
   "outputs": [],
   "source": [
    "superset = pd.concat([superset, paper_info_df], axis=1)\n",
    "\n",
    "for col in superset.columns:\n",
    "    if col in ['PubMed ID', 'doi or pubmed id', 'All references', 'Journal', 'Contact']:\n",
    "        del superset[col] \n"
   ]
  },
  {
   "cell_type": "code",
   "execution_count": null,
   "metadata": {},
   "outputs": [],
   "source": [
    "superset.to_csv(\"data/ribosome_profiling_superset.tsv\", sep=\"\\t\", index=False)"
   ]
  }
 ],
 "metadata": {
  "interpreter": {
   "hash": "59ac764984914fe8e0c657f22a743f4cd4d844eddc087eb14206854eff6f21cf"
  },
  "kernelspec": {
   "display_name": "Python 3.8.5 64-bit ('base': conda)",
   "language": "python",
   "name": "python3"
  },
  "language_info": {
   "codemirror_mode": {
    "name": "ipython",
    "version": 3
   },
   "file_extension": ".py",
   "mimetype": "text/x-python",
   "name": "python",
   "nbconvert_exporter": "python",
   "pygments_lexer": "ipython3",
   "version": "3.10.2"
  },
  "orig_nbformat": 4
 },
 "nbformat": 4,
 "nbformat_minor": 2
}
